{
 "cells": [
  {
   "cell_type": "code",
   "execution_count": 3,
   "id": "4871d3e3-7518-40b8-aebc-68fcc47e708b",
   "metadata": {},
   "outputs": [],
   "source": [
    "import pandas as pd"
   ]
  },
  {
   "cell_type": "markdown",
   "id": "6a706ed3-b5d0-448d-9c47-4338a0cd0413",
   "metadata": {},
   "source": [
    "1. Cleaning Data"
   ]
  },
  {
   "cell_type": "code",
   "execution_count": 14,
   "id": "f3fad9e1-38dc-4156-b7a6-3c809a66af48",
   "metadata": {},
   "outputs": [],
   "source": [
    "df_data_historica = pd.read_csv('fifa_worldcup_matches.csv')\n",
    "df_fixture = pd.read_csv('fifa_worldcup_fixture.csv')\n",
    "df_data_missing = pd.read_csv('fifa_worldcup_missing_data.csv')"
   ]
  },
  {
   "cell_type": "markdown",
   "id": "2de49a84-24f4-438f-b45d-2894f4c50afc",
   "metadata": {},
   "source": [
    "1.1 Cleaning df_fixture"
   ]
  },
  {
   "cell_type": "code",
   "execution_count": 21,
   "id": "6e7bdcab-b445-4af3-a21c-7d3d0c92ac86",
   "metadata": {},
   "outputs": [],
   "source": [
    "df_fixture['Home'] = df_fixture['Home'].str.strip()\n",
    "df_fixture['Away'] = df_fixture['Away'].str.strip()"
   ]
  },
  {
   "cell_type": "markdown",
   "id": "5a5a1337-2b73-4ef1-b021-cb03f9fe8145",
   "metadata": {},
   "source": [
    "1.2 Cleaning df_missing_data and adding to df_hitorical_data"
   ]
  },
  {
   "cell_type": "code",
   "execution_count": 22,
   "id": "709f3e49-5348-4a44-bca6-406002726748",
   "metadata": {},
   "outputs": [],
   "source": [
    "df_data_missing.dropna(inplace=True)"
   ]
  },
  {
   "cell_type": "code",
   "execution_count": 33,
   "id": "4acfc0fb-fe7a-43f2-8387-aeb18ae6f813",
   "metadata": {},
   "outputs": [
    {
     "data": {
      "text/html": [
       "<div>\n",
       "<style scoped>\n",
       "    .dataframe tbody tr th:only-of-type {\n",
       "        vertical-align: middle;\n",
       "    }\n",
       "\n",
       "    .dataframe tbody tr th {\n",
       "        vertical-align: top;\n",
       "    }\n",
       "\n",
       "    .dataframe thead th {\n",
       "        text-align: right;\n",
       "    }\n",
       "</style>\n",
       "<table border=\"1\" class=\"dataframe\">\n",
       "  <thead>\n",
       "    <tr style=\"text-align: right;\">\n",
       "      <th></th>\n",
       "      <th>home</th>\n",
       "      <th>score</th>\n",
       "      <th>away</th>\n",
       "      <th>year</th>\n",
       "    </tr>\n",
       "  </thead>\n",
       "  <tbody>\n",
       "    <tr>\n",
       "      <th>0</th>\n",
       "      <td>France</td>\n",
       "      <td>4–1</td>\n",
       "      <td>Mexico</td>\n",
       "      <td>1930</td>\n",
       "    </tr>\n",
       "    <tr>\n",
       "      <th>17</th>\n",
       "      <td>Uruguay</td>\n",
       "      <td>4–2</td>\n",
       "      <td>Argentina</td>\n",
       "      <td>1930</td>\n",
       "    </tr>\n",
       "    <tr>\n",
       "      <th>16</th>\n",
       "      <td>Uruguay</td>\n",
       "      <td>6–1</td>\n",
       "      <td>Yugoslavia</td>\n",
       "      <td>1930</td>\n",
       "    </tr>\n",
       "    <tr>\n",
       "      <th>15</th>\n",
       "      <td>Argentina</td>\n",
       "      <td>6–1</td>\n",
       "      <td>United States</td>\n",
       "      <td>1930</td>\n",
       "    </tr>\n",
       "    <tr>\n",
       "      <th>14</th>\n",
       "      <td>Paraguay</td>\n",
       "      <td>1–0</td>\n",
       "      <td>Belgium</td>\n",
       "      <td>1930</td>\n",
       "    </tr>\n",
       "    <tr>\n",
       "      <th>...</th>\n",
       "      <td>...</td>\n",
       "      <td>...</td>\n",
       "      <td>...</td>\n",
       "      <td>...</td>\n",
       "    </tr>\n",
       "    <tr>\n",
       "      <th>419</th>\n",
       "      <td>Brazil</td>\n",
       "      <td>2–0</td>\n",
       "      <td>Costa Rica</td>\n",
       "      <td>2018</td>\n",
       "    </tr>\n",
       "    <tr>\n",
       "      <th>420</th>\n",
       "      <td>Serbia</td>\n",
       "      <td>1–2</td>\n",
       "      <td>Switzerland</td>\n",
       "      <td>2018</td>\n",
       "    </tr>\n",
       "    <tr>\n",
       "      <th>421</th>\n",
       "      <td>Serbia</td>\n",
       "      <td>0–2</td>\n",
       "      <td>Brazil</td>\n",
       "      <td>2018</td>\n",
       "    </tr>\n",
       "    <tr>\n",
       "      <th>408</th>\n",
       "      <td>France</td>\n",
       "      <td>1–0</td>\n",
       "      <td>Peru</td>\n",
       "      <td>2018</td>\n",
       "    </tr>\n",
       "    <tr>\n",
       "      <th>450</th>\n",
       "      <td>Brazil</td>\n",
       "      <td>1–2</td>\n",
       "      <td>Belgium</td>\n",
       "      <td>2018</td>\n",
       "    </tr>\n",
       "  </tbody>\n",
       "</table>\n",
       "<p>901 rows × 4 columns</p>\n",
       "</div>"
      ],
      "text/plain": [
       "           home score            away  year\n",
       "0       France    4–1          Mexico  1930\n",
       "17     Uruguay    4–2       Argentina  1930\n",
       "16     Uruguay    6–1      Yugoslavia  1930\n",
       "15   Argentina    6–1   United States  1930\n",
       "14    Paraguay    1–0         Belgium  1930\n",
       "..          ...   ...             ...   ...\n",
       "419     Brazil    2–0      Costa Rica  2018\n",
       "420     Serbia    1–2     Switzerland  2018\n",
       "421     Serbia    0–2          Brazil  2018\n",
       "408     France    1–0            Peru  2018\n",
       "450     Brazil    1–2         Belgium  2018\n",
       "\n",
       "[901 rows x 4 columns]"
      ]
     },
     "execution_count": 33,
     "metadata": {},
     "output_type": "execute_result"
    }
   ],
   "source": [
    "df_data_historical = pd.concat([df_data_historica, df_data_missing], ignore_index=True)\n",
    "df_data_historical.drop_duplicates(inplace=True)\n",
    "df_data_historical.sort_values('year', inplace=True)\n",
    "df_data_historical"
   ]
  },
  {
   "cell_type": "markdown",
   "id": "e9b98a7d-f79a-4c20-8e8f-e2395d846436",
   "metadata": {},
   "source": [
    "1.3 Cleaning df_hitorical_data"
   ]
  },
  {
   "cell_type": "code",
   "execution_count": 11,
   "id": "889c7263-4d45-439c-aee1-36a377189de1",
   "metadata": {},
   "outputs": [
    {
     "ename": "NameError",
     "evalue": "name 'df_data_historical' is not defined",
     "output_type": "error",
     "traceback": [
      "\u001b[1;31m---------------------------------------------------------------------------\u001b[0m",
      "\u001b[1;31mNameError\u001b[0m                                 Traceback (most recent call last)",
      "Cell \u001b[1;32mIn[11], line 1\u001b[0m\n\u001b[1;32m----> 1\u001b[0m df_data_historical[df_data_historical[\u001b[38;5;124m'\u001b[39m\u001b[38;5;124mHome\u001b[39m\u001b[38;5;124m'\u001b[39m]\u001b[38;5;241m.\u001b[39mstr\u001b[38;5;241m.\u001b[39mcontains(\u001b[38;5;124m'\u001b[39m\u001b[38;5;124mSweden\u001b[39m\u001b[38;5;124m'\u001b[39m)]\n",
      "\u001b[1;31mNameError\u001b[0m: name 'df_data_historical' is not defined"
     ]
    }
   ],
   "source": [
    "df_data_historical[df_data_historical['Home'].str.contains('Sweden')]"
   ]
  },
  {
   "cell_type": "code",
   "execution_count": null,
   "id": "fa646283-190e-4c8b-b08d-e38eeb412f03",
   "metadata": {},
   "outputs": [],
   "source": []
  }
 ],
 "metadata": {
  "kernelspec": {
   "display_name": "Python 3 (ipykernel)",
   "language": "python",
   "name": "python3"
  },
  "language_info": {
   "codemirror_mode": {
    "name": "ipython",
    "version": 3
   },
   "file_extension": ".py",
   "mimetype": "text/x-python",
   "name": "python",
   "nbconvert_exporter": "python",
   "pygments_lexer": "ipython3",
   "version": "3.11.7"
  }
 },
 "nbformat": 4,
 "nbformat_minor": 5
}
